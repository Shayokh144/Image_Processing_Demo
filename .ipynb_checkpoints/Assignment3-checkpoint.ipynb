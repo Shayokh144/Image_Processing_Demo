{
 "cells": [
  {
   "cell_type": "code",
   "execution_count": 1,
   "metadata": {
    "collapsed": false
   },
   "outputs": [],
   "source": [
    "def randomShuffling():\n",
    "    import random\n",
    "    try:\n",
    "        strNumber = input(\"Enter an integer number:\")\n",
    "        #print(strNumber)\n",
    "        number = int(strNumber) \n",
    "        strNumber = str(number)\n",
    "        length = len(strNumber)\n",
    "        indexes = [idx for idx in range(length)]\n",
    "        random.shuffle(indexes) \n",
    "        random.shuffle(indexes) \n",
    "        outputArray = [int(strNumber[i]) if strNumber[i].isdigit() else strNumber[i] for i in indexes]\n",
    "        print(outputArray)\n",
    "    except:\n",
    "        print(\"please enter valid integer number\")"
   ]
  },
  {
   "cell_type": "code",
   "execution_count": 2,
   "metadata": {
    "collapsed": false,
    "scrolled": true
   },
   "outputs": [
    {
     "name": "stdout",
     "output_type": "stream",
     "text": [
      "Enter an integer number:25345\n",
      "[5, 5, 4, 2, 3]\n"
     ]
    }
   ],
   "source": [
    "randomShuffling()"
   ]
  },
  {
   "cell_type": "code",
   "execution_count": null,
   "metadata": {
    "collapsed": true
   },
   "outputs": [],
   "source": []
  }
 ],
 "metadata": {
  "kernelspec": {
   "display_name": "Python [Anaconda3]",
   "language": "python",
   "name": "Python [Anaconda3]"
  },
  "language_info": {
   "codemirror_mode": {
    "name": "ipython",
    "version": 3
   },
   "file_extension": ".py",
   "mimetype": "text/x-python",
   "name": "python",
   "nbconvert_exporter": "python",
   "pygments_lexer": "ipython3",
   "version": "3.5.2"
  }
 },
 "nbformat": 4,
 "nbformat_minor": 0
}
